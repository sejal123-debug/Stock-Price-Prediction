{
 "cells": [
  {
   "cell_type": "code",
   "execution_count": 2,
   "id": "4fece43f",
   "metadata": {},
   "outputs": [],
   "source": [
    "import math\n",
    "import pandas_datareader as web\n",
    "import numpy as np\n",
    "import pandas as pd\n",
    "from sklearn.preprocessing import MinMaxScaler\n",
    "from keras.models import Sequential\n",
    "from keras.layers import Dense,LSTM\n",
    "import matplotlib.pyplot as plt\n",
    "plt.style.use('fivethirtyeight')"
   ]
  },
  {
   "cell_type": "code",
   "execution_count": 4,
   "id": "a2155b84",
   "metadata": {},
   "outputs": [],
   "source": [
    "df = pd.read_csv('C:/Users/acer/Downloads/TCS_stock_history.csv')"
   ]
  },
  {
   "cell_type": "code",
   "execution_count": 5,
   "id": "58a0d91b",
   "metadata": {},
   "outputs": [
    {
     "data": {
      "text/html": [
       "<div>\n",
       "<style scoped>\n",
       "    .dataframe tbody tr th:only-of-type {\n",
       "        vertical-align: middle;\n",
       "    }\n",
       "\n",
       "    .dataframe tbody tr th {\n",
       "        vertical-align: top;\n",
       "    }\n",
       "\n",
       "    .dataframe thead th {\n",
       "        text-align: right;\n",
       "    }\n",
       "</style>\n",
       "<table border=\"1\" class=\"dataframe\">\n",
       "  <thead>\n",
       "    <tr style=\"text-align: right;\">\n",
       "      <th></th>\n",
       "      <th>Date</th>\n",
       "      <th>Open</th>\n",
       "      <th>High</th>\n",
       "      <th>Low</th>\n",
       "      <th>Close</th>\n",
       "      <th>Volume</th>\n",
       "      <th>Dividends</th>\n",
       "      <th>Stock Splits</th>\n",
       "    </tr>\n",
       "  </thead>\n",
       "  <tbody>\n",
       "    <tr>\n",
       "      <th>0</th>\n",
       "      <td>2002-08-12</td>\n",
       "      <td>28.794172</td>\n",
       "      <td>29.742206</td>\n",
       "      <td>28.794172</td>\n",
       "      <td>29.519140</td>\n",
       "      <td>212976</td>\n",
       "      <td>0.0</td>\n",
       "      <td>0.0</td>\n",
       "    </tr>\n",
       "    <tr>\n",
       "      <th>1</th>\n",
       "      <td>2002-08-13</td>\n",
       "      <td>29.556316</td>\n",
       "      <td>30.030333</td>\n",
       "      <td>28.905705</td>\n",
       "      <td>29.119476</td>\n",
       "      <td>153576</td>\n",
       "      <td>0.0</td>\n",
       "      <td>0.0</td>\n",
       "    </tr>\n",
       "    <tr>\n",
       "      <th>2</th>\n",
       "      <td>2002-08-14</td>\n",
       "      <td>29.184536</td>\n",
       "      <td>29.184536</td>\n",
       "      <td>26.563503</td>\n",
       "      <td>27.111877</td>\n",
       "      <td>822776</td>\n",
       "      <td>0.0</td>\n",
       "      <td>0.0</td>\n",
       "    </tr>\n",
       "    <tr>\n",
       "      <th>3</th>\n",
       "      <td>2002-08-15</td>\n",
       "      <td>27.111877</td>\n",
       "      <td>27.111877</td>\n",
       "      <td>27.111877</td>\n",
       "      <td>27.111877</td>\n",
       "      <td>0</td>\n",
       "      <td>0.0</td>\n",
       "      <td>0.0</td>\n",
       "    </tr>\n",
       "    <tr>\n",
       "      <th>4</th>\n",
       "      <td>2002-08-16</td>\n",
       "      <td>26.972458</td>\n",
       "      <td>28.255089</td>\n",
       "      <td>26.582090</td>\n",
       "      <td>27.046812</td>\n",
       "      <td>811856</td>\n",
       "      <td>0.0</td>\n",
       "      <td>0.0</td>\n",
       "    </tr>\n",
       "    <tr>\n",
       "      <th>...</th>\n",
       "      <td>...</td>\n",
       "      <td>...</td>\n",
       "      <td>...</td>\n",
       "      <td>...</td>\n",
       "      <td>...</td>\n",
       "      <td>...</td>\n",
       "      <td>...</td>\n",
       "      <td>...</td>\n",
       "    </tr>\n",
       "    <tr>\n",
       "      <th>4458</th>\n",
       "      <td>2021-09-24</td>\n",
       "      <td>3890.000000</td>\n",
       "      <td>3944.399902</td>\n",
       "      <td>3855.000000</td>\n",
       "      <td>3871.300049</td>\n",
       "      <td>2320754</td>\n",
       "      <td>0.0</td>\n",
       "      <td>0.0</td>\n",
       "    </tr>\n",
       "    <tr>\n",
       "      <th>4459</th>\n",
       "      <td>2021-09-27</td>\n",
       "      <td>3900.000000</td>\n",
       "      <td>3904.000000</td>\n",
       "      <td>3802.899902</td>\n",
       "      <td>3836.949951</td>\n",
       "      <td>1673362</td>\n",
       "      <td>0.0</td>\n",
       "      <td>0.0</td>\n",
       "    </tr>\n",
       "    <tr>\n",
       "      <th>4460</th>\n",
       "      <td>2021-09-28</td>\n",
       "      <td>3850.000000</td>\n",
       "      <td>3850.000000</td>\n",
       "      <td>3751.250000</td>\n",
       "      <td>3779.149902</td>\n",
       "      <td>2253075</td>\n",
       "      <td>0.0</td>\n",
       "      <td>0.0</td>\n",
       "    </tr>\n",
       "    <tr>\n",
       "      <th>4461</th>\n",
       "      <td>2021-09-29</td>\n",
       "      <td>3759.800049</td>\n",
       "      <td>3806.000000</td>\n",
       "      <td>3722.149902</td>\n",
       "      <td>3791.899902</td>\n",
       "      <td>2489161</td>\n",
       "      <td>0.0</td>\n",
       "      <td>0.0</td>\n",
       "    </tr>\n",
       "    <tr>\n",
       "      <th>4462</th>\n",
       "      <td>2021-09-30</td>\n",
       "      <td>3805.000000</td>\n",
       "      <td>3805.000000</td>\n",
       "      <td>3765.000000</td>\n",
       "      <td>3773.199951</td>\n",
       "      <td>640479</td>\n",
       "      <td>0.0</td>\n",
       "      <td>0.0</td>\n",
       "    </tr>\n",
       "  </tbody>\n",
       "</table>\n",
       "<p>4463 rows × 8 columns</p>\n",
       "</div>"
      ],
      "text/plain": [
       "            Date         Open         High          Low        Close   Volume  \\\n",
       "0     2002-08-12    28.794172    29.742206    28.794172    29.519140   212976   \n",
       "1     2002-08-13    29.556316    30.030333    28.905705    29.119476   153576   \n",
       "2     2002-08-14    29.184536    29.184536    26.563503    27.111877   822776   \n",
       "3     2002-08-15    27.111877    27.111877    27.111877    27.111877        0   \n",
       "4     2002-08-16    26.972458    28.255089    26.582090    27.046812   811856   \n",
       "...          ...          ...          ...          ...          ...      ...   \n",
       "4458  2021-09-24  3890.000000  3944.399902  3855.000000  3871.300049  2320754   \n",
       "4459  2021-09-27  3900.000000  3904.000000  3802.899902  3836.949951  1673362   \n",
       "4460  2021-09-28  3850.000000  3850.000000  3751.250000  3779.149902  2253075   \n",
       "4461  2021-09-29  3759.800049  3806.000000  3722.149902  3791.899902  2489161   \n",
       "4462  2021-09-30  3805.000000  3805.000000  3765.000000  3773.199951   640479   \n",
       "\n",
       "      Dividends  Stock Splits  \n",
       "0           0.0           0.0  \n",
       "1           0.0           0.0  \n",
       "2           0.0           0.0  \n",
       "3           0.0           0.0  \n",
       "4           0.0           0.0  \n",
       "...         ...           ...  \n",
       "4458        0.0           0.0  \n",
       "4459        0.0           0.0  \n",
       "4460        0.0           0.0  \n",
       "4461        0.0           0.0  \n",
       "4462        0.0           0.0  \n",
       "\n",
       "[4463 rows x 8 columns]"
      ]
     },
     "execution_count": 5,
     "metadata": {},
     "output_type": "execute_result"
    }
   ],
   "source": [
    "df"
   ]
  },
  {
   "cell_type": "code",
   "execution_count": 6,
   "id": "4fc72f5b",
   "metadata": {},
   "outputs": [
    {
     "data": {
      "text/plain": [
       "(4463, 8)"
      ]
     },
     "execution_count": 6,
     "metadata": {},
     "output_type": "execute_result"
    }
   ],
   "source": [
    "df.shape"
   ]
  },
  {
   "cell_type": "code",
   "execution_count": 8,
   "id": "ea6b6b10",
   "metadata": {},
   "outputs": [
    {
     "data": {
      "image/png": "[encoded data removed]",
      "text/plain": [
       "<Figure size 1296x648 with 1 Axes>"
      ]
     },
     "metadata": {},
     "output_type": "display_data"
    }
   ],
   "source": [
    "plt.figure(figsize=(18,9))\n",
    "plt.title('Close Price History')\n",
    "\n",
    "df[\"Date\"] = pd.to_datetime(df[\"Date\"])\n",
    "date = df[\"Date\"]\n",
    "\n",
    "plt.plot(date,df['Close'])\n",
    "plt.xlabel('Date', fontsize=18)\n",
    "plt.ylabel('Close Price ($)',fontsize=18)\n",
    "plt.show()"
   ]
  },
  {
   "cell_type": "code",
   "execution_count": 7,
   "id": "61cd1e86",
   "metadata": {},
   "outputs": [
    {
     "data": {
      "text/plain": [
       "3571"
      ]
     },
     "execution_count": 7,
     "metadata": {},
     "output_type": "execute_result"
    }
   ],
   "source": [
    "data =  df.filter(['Close'])\n",
    "#convert the dataframe to a numpy arrays\n",
    "dataset = data.values\n",
    "#get the number of rows to train the model\n",
    "training_data_len = math.ceil( len(dataset) * .8)\n",
    "training_data_len"
   ]
  },
  {
   "cell_type": "code",
   "execution_count": 8,
   "id": "4cb9bd38",
   "metadata": {},
   "outputs": [
    {
     "data": {
      "text/plain": [
       "array([[7.99743657e-04],\n",
       "       [6.98000688e-04],\n",
       "       [1.86923614e-04],\n",
       "       ...,\n",
       "       [9.55348155e-01],\n",
       "       [9.58593939e-01],\n",
       "       [9.53833468e-01]])"
      ]
     },
     "execution_count": 8,
     "metadata": {},
     "output_type": "execute_result"
    }
   ],
   "source": [
    "#scale the data\n",
    "scaler = MinMaxScaler(feature_range=(0,1))\n",
    "scaled_data = scaler.fit_transform(dataset)\n",
    "scaled_data"
   ]
  },
  {
   "cell_type": "code",
   "execution_count": 9,
   "id": "46e4dd95",
   "metadata": {},
   "outputs": [
    {
     "name": "stdout",
     "output_type": "stream",
     "text": [
      "[array([7.99743657e-04, 6.98000688e-04, 1.86923614e-04, 1.86923614e-04,\n",
      "       1.70359834e-04, 0.00000000e+00, 1.86923614e-04, 5.25270854e-04,\n",
      "       8.37600534e-04, 1.29188695e-03, 1.26349648e-03, 1.06474374e-03,\n",
      "       1.07184597e-03, 1.07184597e-03, 1.62314361e-03, 1.70832086e-03,\n",
      "       1.31318588e-03, 1.48827551e-03, 1.43858757e-03, 1.13572769e-03,\n",
      "       1.03398667e-03, 1.03398667e-03, 1.23037329e-03, 1.27059240e-03,\n",
      "       1.04344822e-03, 8.92019250e-04, 1.11443168e-03, 8.73091782e-04,\n",
      "       8.09207148e-04, 6.86166226e-04, 5.60769385e-04, 3.14690940e-04,\n",
      "       3.69113055e-04, 4.80317572e-04, 5.67862391e-04, 3.02862305e-04,\n",
      "       2.43709902e-04, 2.43709902e-04, 4.30631088e-04, 3.85676834e-04,\n",
      "       3.54915876e-04, 5.46568322e-04, 3.62010338e-04, 3.69113055e-04,\n",
      "       5.18175421e-04, 4.66120879e-04, 4.66120879e-04, 4.80317572e-04,\n",
      "       4.80317572e-04, 6.31747510e-04, 7.45322028e-04, 4.75587283e-04,\n",
      "       4.42461665e-04, 3.17058027e-04, 1.72725464e-04, 7.09815242e-05,\n",
      "       1.30137812e-04, 2.46074075e-04, 3.54915876e-04, 2.81568721e-04])]\n",
      "[0.00033362035015759885]\n",
      "\n",
      "[array([7.99743657e-04, 6.98000688e-04, 1.86923614e-04, 1.86923614e-04,\n",
      "       1.70359834e-04, 0.00000000e+00, 1.86923614e-04, 5.25270854e-04,\n",
      "       8.37600534e-04, 1.29188695e-03, 1.26349648e-03, 1.06474374e-03,\n",
      "       1.07184597e-03, 1.07184597e-03, 1.62314361e-03, 1.70832086e-03,\n",
      "       1.31318588e-03, 1.48827551e-03, 1.43858757e-03, 1.13572769e-03,\n",
      "       1.03398667e-03, 1.03398667e-03, 1.23037329e-03, 1.27059240e-03,\n",
      "       1.04344822e-03, 8.92019250e-04, 1.11443168e-03, 8.73091782e-04,\n",
      "       8.09207148e-04, 6.86166226e-04, 5.60769385e-04, 3.14690940e-04,\n",
      "       3.69113055e-04, 4.80317572e-04, 5.67862391e-04, 3.02862305e-04,\n",
      "       2.43709902e-04, 2.43709902e-04, 4.30631088e-04, 3.85676834e-04,\n",
      "       3.54915876e-04, 5.46568322e-04, 3.62010338e-04, 3.69113055e-04,\n",
      "       5.18175421e-04, 4.66120879e-04, 4.66120879e-04, 4.80317572e-04,\n",
      "       4.80317572e-04, 6.31747510e-04, 7.45322028e-04, 4.75587283e-04,\n",
      "       4.42461665e-04, 3.17058027e-04, 1.72725464e-04, 7.09815242e-05,\n",
      "       1.30137812e-04, 2.46074075e-04, 3.54915876e-04, 2.81568721e-04]), array([6.98000688e-04, 1.86923614e-04, 1.86923614e-04, 1.70359834e-04,\n",
      "       0.00000000e+00, 1.86923614e-04, 5.25270854e-04, 8.37600534e-04,\n",
      "       1.29188695e-03, 1.26349648e-03, 1.06474374e-03, 1.07184597e-03,\n",
      "       1.07184597e-03, 1.62314361e-03, 1.70832086e-03, 1.31318588e-03,\n",
      "       1.48827551e-03, 1.43858757e-03, 1.13572769e-03, 1.03398667e-03,\n",
      "       1.03398667e-03, 1.23037329e-03, 1.27059240e-03, 1.04344822e-03,\n",
      "       8.92019250e-04, 1.11443168e-03, 8.73091782e-04, 8.09207148e-04,\n",
      "       6.86166226e-04, 5.60769385e-04, 3.14690940e-04, 3.69113055e-04,\n",
      "       4.80317572e-04, 5.67862391e-04, 3.02862305e-04, 2.43709902e-04,\n",
      "       2.43709902e-04, 4.30631088e-04, 3.85676834e-04, 3.54915876e-04,\n",
      "       5.46568322e-04, 3.62010338e-04, 3.69113055e-04, 5.18175421e-04,\n",
      "       4.66120879e-04, 4.66120879e-04, 4.80317572e-04, 4.80317572e-04,\n",
      "       6.31747510e-04, 7.45322028e-04, 4.75587283e-04, 4.42461665e-04,\n",
      "       3.17058027e-04, 1.72725464e-04, 7.09815242e-05, 1.30137812e-04,\n",
      "       2.46074075e-04, 3.54915876e-04, 2.81568721e-04, 3.33620350e-04])]\n",
      "[0.00033362035015759885, 0.000257908051489268]\n",
      "\n"
     ]
    }
   ],
   "source": [
    "#create the training dataset\n",
    "#create the scaled training dataset\n",
    "train_data = scaled_data[0:training_data_len , :]\n",
    "#split the data into x_train and y_train datasets\n",
    "x_train = []\n",
    "y_train = []\n",
    "\n",
    "for i in range(60, len(train_data)):\n",
    "    x_train.append(train_data[i-60:i, 0])\n",
    "    y_train.append(train_data[i, 0])\n",
    "    if i<=61:\n",
    "        print(x_train)\n",
    "        print(y_train)\n",
    "        print()"
   ]
  },
  {
   "cell_type": "code",
   "execution_count": 10,
   "id": "d4e883a8",
   "metadata": {},
   "outputs": [],
   "source": [
    "#convert the x_train and y_train to numpy arrays\n",
    "x_train, y_train = np.array(x_train), np.array(y_train)"
   ]
  },
  {
   "cell_type": "code",
   "execution_count": 11,
   "id": "14ce7536",
   "metadata": {},
   "outputs": [
    {
     "data": {
      "text/plain": [
       "(3511, 60)"
      ]
     },
     "execution_count": 11,
     "metadata": {},
     "output_type": "execute_result"
    }
   ],
   "source": [
    "x_train.shape"
   ]
  },
  {
   "cell_type": "code",
   "execution_count": 12,
   "id": "8e5b388c",
   "metadata": {},
   "outputs": [
    {
     "data": {
      "text/plain": [
       "(3511, 60, 1)"
      ]
     },
     "execution_count": 12,
     "metadata": {},
     "output_type": "execute_result"
    }
   ],
   "source": [
    "#Reshape the data\n",
    "x_train = np.reshape(x_train, (x_train.shape[0], x_train.shape[1] ,1))\n",
    "x_train.shape"
   ]
  },
  {
   "cell_type": "code",
   "execution_count": 11,
   "id": "38168412",
   "metadata": {},
   "outputs": [],
   "source": [
    "#Build the lstm model\n",
    "model = Sequential()\n",
    "model.add(LSTM(50, return_sequences=True, input_shape = (x_train.shape[1], 1)))\n",
    "model.add(LSTM(50, return_sequences=False))\n",
    "model.add(Dense(25))\n",
    "model.add(Dense(1))"
   ]
  },
  {
   "cell_type": "code",
   "execution_count": 14,
   "id": "2b3276f1",
   "metadata": {},
   "outputs": [],
   "source": [
    "#Compile the model\n",
    "model.compile(optimizer='adam', loss='mean_squared_error')"
   ]
  },
  {
   "cell_type": "code",
   "execution_count": 15,
   "id": "c87ccd97",
   "metadata": {},
   "outputs": [
    {
     "name": "stdout",
     "output_type": "stream",
     "text": [
      "3511/3511 [==============================] - 261s 70ms/step - loss: 1.6470e-04\n"
     ]
    },
    {
     "data": {
      "text/plain": [
       "<keras.callbacks.History at 0x256aa6c0f40>"
      ]
     },
     "execution_count": 15,
     "metadata": {},
     "output_type": "execute_result"
    }
   ],
   "source": [
    "#Train the model\n",
    "model.fit(x_train, y_train, batch_size=1, epochs=1)"
   ]
  },
  {
   "cell_type": "code",
   "execution_count": 16,
   "id": "2b6cb244",
   "metadata": {},
   "outputs": [],
   "source": [
    "#creating the testing data\n",
    "test_data = scaled_data[training_data_len - 60: , :]\n",
    "#create the datasets x_train and y_test\n",
    "x_test = []\n",
    "y_test = dataset[training_data_len:, :]\n",
    "for i in range(60, len(test_data)):\n",
    "    x_test.append(test_data[i-60:i,0])"
   ]
  },
  {
   "cell_type": "code",
   "execution_count": 17,
   "id": "77e2fdc8",
   "metadata": {},
   "outputs": [],
   "source": [
    "#convert the data to a numpy array\n",
    "x_test = np.array(x_test)"
   ]
  },
  {
   "cell_type": "code",
   "execution_count": 18,
   "id": "dbc1ad02",
   "metadata": {},
   "outputs": [],
   "source": [
    "#Reshape the data\n",
    "x_test = np.reshape(x_test, (x_test.shape[0], x_test.shape[1], 1))"
   ]
  },
  {
   "cell_type": "code",
   "execution_count": 19,
   "id": "9c130b94",
   "metadata": {},
   "outputs": [
    {
     "name": "stdout",
     "output_type": "stream",
     "text": [
      "28/28 [==============================] - 6s 72ms/step\n"
     ]
    }
   ],
   "source": [
    "#Get the models predicted price values\n",
    "predictions = model.predict(x_test)\n",
    "predictions=scaler.inverse_transform(predictions)"
   ]
  },
  {
   "cell_type": "code",
   "execution_count": 20,
   "id": "10029e34",
   "metadata": {},
   "outputs": [
    {
     "data": {
      "text/plain": [
       "113.5563121846973"
      ]
     },
     "execution_count": 20,
     "metadata": {},
     "output_type": "execute_result"
    }
   ],
   "source": [
    "#Get the root mean squared error (RMSE\n",
    "rmse = np.sqrt(np.mean(predictions - y_test)**2)\n",
    "rmse"
   ]
  },
  {
   "cell_type": "code",
   "execution_count": 21,
   "id": "9808015b",
   "metadata": {},
   "outputs": [
    {
     "name": "stderr",
     "output_type": "stream",
     "text": [
      "C:\\Users\\acer\\AppData\\Local\\Temp\\ipykernel_4984\\4269411032.py:4: SettingWithCopyWarning: \n",
      "A value is trying to be set on a copy of a slice from a DataFrame.\n",
      "Try using .loc[row_indexer,col_indexer] = value instead\n",
      "\n",
      "See the caveats in the documentation: https://pandas.pydata.org/pandas-docs/stable/user_guide/indexing.html#returning-a-view-versus-a-copy\n",
      "  valid['Predictions'] = predictions\n"
     ]
    },
    {
     "data": {
      "image/png": "[encoded data removed]",
      "text/plain": [
       "<Figure size 1152x576 with 1 Axes>"
      ]
     },
     "metadata": {},
     "output_type": "display_data"
    }
   ],
   "source": [
    "#Plot the data\n",
    "train = data[:training_data_len]\n",
    "valid = data[training_data_len:]\n",
    "valid['Predictions'] = predictions\n",
    "#Visualise\n",
    "plt.figure(figsize=(16,8))\n",
    "plt.title('Model')\n",
    "plt.xlabel('Date', fontsize=18)\n",
    "plt.ylabel('Close Price USD ($)', fontsize=18)\n",
    "plt.plot(train['Close'])\n",
    "plt.plot(valid[['Close','Predictions']])\n",
    "plt.legend(['Train','Val','Predictions'], loc='lower right')\n",
    "plt.show()"
   ]
  },
  {
   "cell_type": "code",
   "execution_count": 22,
   "id": "27651896",
   "metadata": {},
   "outputs": [
    {
     "data": {
      "text/html": [
       "<div>\n",
       "<style scoped>\n",
       "    .dataframe tbody tr th:only-of-type {\n",
       "        vertical-align: middle;\n",
       "    }\n",
       "\n",
       "    .dataframe tbody tr th {\n",
       "        vertical-align: top;\n",
       "    }\n",
       "\n",
       "    .dataframe thead th {\n",
       "        text-align: right;\n",
       "    }\n",
       "</style>\n",
       "<table border=\"1\" class=\"dataframe\">\n",
       "  <thead>\n",
       "    <tr style=\"text-align: right;\">\n",
       "      <th></th>\n",
       "      <th>Close</th>\n",
       "      <th>Predictions</th>\n",
       "    </tr>\n",
       "  </thead>\n",
       "  <tbody>\n",
       "    <tr>\n",
       "      <th>3571</th>\n",
       "      <td>1360.457153</td>\n",
       "      <td>1503.542358</td>\n",
       "    </tr>\n",
       "    <tr>\n",
       "      <th>3572</th>\n",
       "      <td>1363.805054</td>\n",
       "      <td>1494.397217</td>\n",
       "    </tr>\n",
       "    <tr>\n",
       "      <th>3573</th>\n",
       "      <td>1359.411255</td>\n",
       "      <td>1487.623047</td>\n",
       "    </tr>\n",
       "    <tr>\n",
       "      <th>3574</th>\n",
       "      <td>1369.245483</td>\n",
       "      <td>1482.207153</td>\n",
       "    </tr>\n",
       "    <tr>\n",
       "      <th>3575</th>\n",
       "      <td>1414.604004</td>\n",
       "      <td>1479.450562</td>\n",
       "    </tr>\n",
       "    <tr>\n",
       "      <th>...</th>\n",
       "      <td>...</td>\n",
       "      <td>...</td>\n",
       "    </tr>\n",
       "    <tr>\n",
       "      <th>4458</th>\n",
       "      <td>3871.300049</td>\n",
       "      <td>3883.213867</td>\n",
       "    </tr>\n",
       "    <tr>\n",
       "      <th>4459</th>\n",
       "      <td>3836.949951</td>\n",
       "      <td>3884.843750</td>\n",
       "    </tr>\n",
       "    <tr>\n",
       "      <th>4460</th>\n",
       "      <td>3779.149902</td>\n",
       "      <td>3881.732422</td>\n",
       "    </tr>\n",
       "    <tr>\n",
       "      <th>4461</th>\n",
       "      <td>3791.899902</td>\n",
       "      <td>3869.514648</td>\n",
       "    </tr>\n",
       "    <tr>\n",
       "      <th>4462</th>\n",
       "      <td>3773.199951</td>\n",
       "      <td>3857.841553</td>\n",
       "    </tr>\n",
       "  </tbody>\n",
       "</table>\n",
       "<p>892 rows × 2 columns</p>\n",
       "</div>"
      ],
      "text/plain": [
       "            Close  Predictions\n",
       "3571  1360.457153  1503.542358\n",
       "3572  1363.805054  1494.397217\n",
       "3573  1359.411255  1487.623047\n",
       "3574  1369.245483  1482.207153\n",
       "3575  1414.604004  1479.450562\n",
       "...           ...          ...\n",
       "4458  3871.300049  3883.213867\n",
       "4459  3836.949951  3884.843750\n",
       "4460  3779.149902  3881.732422\n",
       "4461  3791.899902  3869.514648\n",
       "4462  3773.199951  3857.841553\n",
       "\n",
       "[892 rows x 2 columns]"
      ]
     },
     "execution_count": 22,
     "metadata": {},
     "output_type": "execute_result"
    }
   ],
   "source": [
    "#show the valid and predicted prices\n",
    "valid"
   ]
  },
  {
   "cell_type": "code",
   "execution_count": 23,
   "id": "d4d0b926",
   "metadata": {},
   "outputs": [],
   "source": [
    "tcs_quote = pd.read_csv('C:/Users/acer/Downloads/TCS_stock_history.csv')"
   ]
  },
  {
   "cell_type": "code",
   "execution_count": 26,
   "id": "ca55ce5b",
   "metadata": {},
   "outputs": [
    {
     "name": "stdout",
     "output_type": "stream",
     "text": [
      "1/1 [==============================] - 0s 74ms/step\n",
      "[[0.97215927]]\n"
     ]
    }
   ],
   "source": [
    "new_df = tcs_quote.filter(['Close'])\n",
    "last_60_days = new_df[-60:].values\n",
    "last_60_days_scaled = scaler.transform(last_60_days)\n",
    "X_test = []\n",
    "X_test.append(last_60_days_scaled)\n",
    "X_test = np.array(X_test)\n",
    "X_test = np.reshape(X_test, (X_test.shape[0], X_test.shape[1], 1))\n",
    "pred_price = model.predict(X_test)\n",
    "pred_price - scaler.inverse_transform(pred_price)\n",
    "print(pred_price)"
   ]
  },
  {
   "cell_type": "code",
   "execution_count": null,
   "id": "e818a28f",
   "metadata": {},
   "outputs": [],
   "source": []
  },
  {
   "cell_type": "markdown",
   "id": "9546d6a3",
   "metadata": {},
   "source": [
    "## Hence, We explored Stock Price of TCS using LSTM. We then visualized closing price value after using LSTM."
   ]
  }
 ],
 "metadata": {
  "kernelspec": {
   "display_name": "Python 3 (ipykernel)",
   "language": "python",
   "name": "python3"
  },
  "language_info": {
   "codemirror_mode": {
    "name": "ipython",
    "version": 3
   },
   "file_extension": ".py",
   "mimetype": "text/x-python",
   "name": "python",
   "nbconvert_exporter": "python",
   "pygments_lexer": "ipython3",
   "version": "3.9.12"
  }
 },
 "nbformat": 4,
 "nbformat_minor": 5
}
