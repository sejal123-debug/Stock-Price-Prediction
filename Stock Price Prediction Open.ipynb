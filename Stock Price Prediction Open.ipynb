{
 "cells": [
  {
   "cell_type": "code",
   "execution_count": 2,
   "id": "747c30da",
   "metadata": {},
   "outputs": [
    {
     "name": "stdout",
     "output_type": "stream",
     "text": [
      "Requirement already satisfied: pandas in c:\\users\\acer\\anaconda3\\lib\\site-packages (1.4.2)\n",
      "Requirement already satisfied: numpy>=1.18.5 in c:\\users\\acer\\anaconda3\\lib\\site-packages (from pandas) (1.21.5)\n",
      "Requirement already satisfied: python-dateutil>=2.8.1 in c:\\users\\acer\\anaconda3\\lib\\site-packages (from pandas) (2.8.2)\n",
      "Requirement already satisfied: pytz>=2020.1 in c:\\users\\acer\\anaconda3\\lib\\site-packages (from pandas) (2021.3)\n",
      "Requirement already satisfied: six>=1.5 in c:\\users\\acer\\anaconda3\\lib\\site-packages (from python-dateutil>=2.8.1->pandas) (1.16.0)\n",
      "Note: you may need to restart the kernel to use updated packages.\n"
     ]
    }
   ],
   "source": [
    "# pip install pandas"
   ]
  },
  {
   "cell_type": "code",
   "execution_count": 3,
   "id": "95bd05a3",
   "metadata": {},
   "outputs": [],
   "source": [
    "import math\n",
    "import pandas_datareader as web\n",
    "import numpy as np\n",
    "import pandas as pd\n",
    "from sklearn.preprocessing import MinMaxScaler\n",
    "from keras.models import Sequential\n",
    "from keras.layers import Dense,LSTM\n",
    "import matplotlib.pyplot as plt\n",
    "plt.style.use('fivethirtyeight')"
   ]
  },
  {
   "cell_type": "code",
   "execution_count": 7,
   "id": "dd00b0eb",
   "metadata": {},
   "outputs": [],
   "source": [
    "df = pd.read_csv('C:/Users/acer/Downloads/TCS_stock_history.csv')"
   ]
  },
  {
   "cell_type": "code",
   "execution_count": 8,
   "id": "a6528473",
   "metadata": {},
   "outputs": [
    {
     "data": {
      "text/html": [
       "<div>\n",
       "<style scoped>\n",
       "    .dataframe tbody tr th:only-of-type {\n",
       "        vertical-align: middle;\n",
       "    }\n",
       "\n",
       "    .dataframe tbody tr th {\n",
       "        vertical-align: top;\n",
       "    }\n",
       "\n",
       "    .dataframe thead th {\n",
       "        text-align: right;\n",
       "    }\n",
       "</style>\n",
       "<table border=\"1\" class=\"dataframe\">\n",
       "  <thead>\n",
       "    <tr style=\"text-align: right;\">\n",
       "      <th></th>\n",
       "      <th>Date</th>\n",
       "      <th>Open</th>\n",
       "      <th>High</th>\n",
       "      <th>Low</th>\n",
       "      <th>Close</th>\n",
       "      <th>Volume</th>\n",
       "      <th>Dividends</th>\n",
       "      <th>Stock Splits</th>\n",
       "    </tr>\n",
       "  </thead>\n",
       "  <tbody>\n",
       "    <tr>\n",
       "      <th>0</th>\n",
       "      <td>2002-08-12</td>\n",
       "      <td>28.794172</td>\n",
       "      <td>29.742206</td>\n",
       "      <td>28.794172</td>\n",
       "      <td>29.519140</td>\n",
       "      <td>212976</td>\n",
       "      <td>0.0</td>\n",
       "      <td>0.0</td>\n",
       "    </tr>\n",
       "    <tr>\n",
       "      <th>1</th>\n",
       "      <td>2002-08-13</td>\n",
       "      <td>29.556316</td>\n",
       "      <td>30.030333</td>\n",
       "      <td>28.905705</td>\n",
       "      <td>29.119476</td>\n",
       "      <td>153576</td>\n",
       "      <td>0.0</td>\n",
       "      <td>0.0</td>\n",
       "    </tr>\n",
       "    <tr>\n",
       "      <th>2</th>\n",
       "      <td>2002-08-14</td>\n",
       "      <td>29.184536</td>\n",
       "      <td>29.184536</td>\n",
       "      <td>26.563503</td>\n",
       "      <td>27.111877</td>\n",
       "      <td>822776</td>\n",
       "      <td>0.0</td>\n",
       "      <td>0.0</td>\n",
       "    </tr>\n",
       "    <tr>\n",
       "      <th>3</th>\n",
       "      <td>2002-08-15</td>\n",
       "      <td>27.111877</td>\n",
       "      <td>27.111877</td>\n",
       "      <td>27.111877</td>\n",
       "      <td>27.111877</td>\n",
       "      <td>0</td>\n",
       "      <td>0.0</td>\n",
       "      <td>0.0</td>\n",
       "    </tr>\n",
       "    <tr>\n",
       "      <th>4</th>\n",
       "      <td>2002-08-16</td>\n",
       "      <td>26.972458</td>\n",
       "      <td>28.255089</td>\n",
       "      <td>26.582090</td>\n",
       "      <td>27.046812</td>\n",
       "      <td>811856</td>\n",
       "      <td>0.0</td>\n",
       "      <td>0.0</td>\n",
       "    </tr>\n",
       "    <tr>\n",
       "      <th>...</th>\n",
       "      <td>...</td>\n",
       "      <td>...</td>\n",
       "      <td>...</td>\n",
       "      <td>...</td>\n",
       "      <td>...</td>\n",
       "      <td>...</td>\n",
       "      <td>...</td>\n",
       "      <td>...</td>\n",
       "    </tr>\n",
       "    <tr>\n",
       "      <th>4458</th>\n",
       "      <td>2021-09-24</td>\n",
       "      <td>3890.000000</td>\n",
       "      <td>3944.399902</td>\n",
       "      <td>3855.000000</td>\n",
       "      <td>3871.300049</td>\n",
       "      <td>2320754</td>\n",
       "      <td>0.0</td>\n",
       "      <td>0.0</td>\n",
       "    </tr>\n",
       "    <tr>\n",
       "      <th>4459</th>\n",
       "      <td>2021-09-27</td>\n",
       "      <td>3900.000000</td>\n",
       "      <td>3904.000000</td>\n",
       "      <td>3802.899902</td>\n",
       "      <td>3836.949951</td>\n",
       "      <td>1673362</td>\n",
       "      <td>0.0</td>\n",
       "      <td>0.0</td>\n",
       "    </tr>\n",
       "    <tr>\n",
       "      <th>4460</th>\n",
       "      <td>2021-09-28</td>\n",
       "      <td>3850.000000</td>\n",
       "      <td>3850.000000</td>\n",
       "      <td>3751.250000</td>\n",
       "      <td>3779.149902</td>\n",
       "      <td>2253075</td>\n",
       "      <td>0.0</td>\n",
       "      <td>0.0</td>\n",
       "    </tr>\n",
       "    <tr>\n",
       "      <th>4461</th>\n",
       "      <td>2021-09-29</td>\n",
       "      <td>3759.800049</td>\n",
       "      <td>3806.000000</td>\n",
       "      <td>3722.149902</td>\n",
       "      <td>3791.899902</td>\n",
       "      <td>2489161</td>\n",
       "      <td>0.0</td>\n",
       "      <td>0.0</td>\n",
       "    </tr>\n",
       "    <tr>\n",
       "      <th>4462</th>\n",
       "      <td>2021-09-30</td>\n",
       "      <td>3805.000000</td>\n",
       "      <td>3805.000000</td>\n",
       "      <td>3765.000000</td>\n",
       "      <td>3773.199951</td>\n",
       "      <td>640479</td>\n",
       "      <td>0.0</td>\n",
       "      <td>0.0</td>\n",
       "    </tr>\n",
       "  </tbody>\n",
       "</table>\n",
       "<p>4463 rows × 8 columns</p>\n",
       "</div>"
      ],
      "text/plain": [
       "            Date         Open         High          Low        Close   Volume  \\\n",
       "0     2002-08-12    28.794172    29.742206    28.794172    29.519140   212976   \n",
       "1     2002-08-13    29.556316    30.030333    28.905705    29.119476   153576   \n",
       "2     2002-08-14    29.184536    29.184536    26.563503    27.111877   822776   \n",
       "3     2002-08-15    27.111877    27.111877    27.111877    27.111877        0   \n",
       "4     2002-08-16    26.972458    28.255089    26.582090    27.046812   811856   \n",
       "...          ...          ...          ...          ...          ...      ...   \n",
       "4458  2021-09-24  3890.000000  3944.399902  3855.000000  3871.300049  2320754   \n",
       "4459  2021-09-27  3900.000000  3904.000000  3802.899902  3836.949951  1673362   \n",
       "4460  2021-09-28  3850.000000  3850.000000  3751.250000  3779.149902  2253075   \n",
       "4461  2021-09-29  3759.800049  3806.000000  3722.149902  3791.899902  2489161   \n",
       "4462  2021-09-30  3805.000000  3805.000000  3765.000000  3773.199951   640479   \n",
       "\n",
       "      Dividends  Stock Splits  \n",
       "0           0.0           0.0  \n",
       "1           0.0           0.0  \n",
       "2           0.0           0.0  \n",
       "3           0.0           0.0  \n",
       "4           0.0           0.0  \n",
       "...         ...           ...  \n",
       "4458        0.0           0.0  \n",
       "4459        0.0           0.0  \n",
       "4460        0.0           0.0  \n",
       "4461        0.0           0.0  \n",
       "4462        0.0           0.0  \n",
       "\n",
       "[4463 rows x 8 columns]"
      ]
     },
     "execution_count": 8,
     "metadata": {},
     "output_type": "execute_result"
    }
   ],
   "source": [
    "df"
   ]
  },
  {
   "cell_type": "code",
   "execution_count": 9,
   "id": "2146d05a",
   "metadata": {},
   "outputs": [
    {
     "data": {
      "text/plain": [
       "(4463, 8)"
      ]
     },
     "execution_count": 9,
     "metadata": {},
     "output_type": "execute_result"
    }
   ],
   "source": [
    "df.shape"
   ]
  },
  {
   "cell_type": "code",
   "execution_count": 10,
   "id": "9772ea53",
   "metadata": {},
   "outputs": [
    {
     "data": {
      "image/png": "[encoded data removed]",
      "text/plain": [
       "<Figure size 1296x648 with 1 Axes>"
      ]
     },
     "metadata": {},
     "output_type": "display_data"
    }
   ],
   "source": [
    "plt.figure(figsize=(18,9))\n",
    "plt.title('Open Price History')\n",
    "\n",
    "df[\"Date\"] = pd.to_datetime(df[\"Date\"])\n",
    "date = df[\"Date\"]\n",
    "\n",
    "plt.plot(date,df['Open'])\n",
    "plt.xlabel('Date', fontsize=18)\n",
    "plt.ylabel('Open Price ($)',fontsize=18)\n",
    "plt.show()"
   ]
  },
  {
   "cell_type": "code",
   "execution_count": 11,
   "id": "8160c3af",
   "metadata": {},
   "outputs": [
    {
     "data": {
      "text/plain": [
       "3571"
      ]
     },
     "execution_count": 11,
     "metadata": {},
     "output_type": "execute_result"
    }
   ],
   "source": [
    "data =  df.filter(['Open'])\n",
    "#convert the dataframe to a numpy arrays\n",
    "dataset = data.values\n",
    "#get the number of rows to train the model\n",
    "training_data_len = math.ceil( len(dataset) * .8)\n",
    "training_data_len"
   ]
  },
  {
   "cell_type": "code",
   "execution_count": 12,
   "id": "0664651b",
   "metadata": {},
   "outputs": [
    {
     "data": {
      "text/plain": [
       "array([[0.00118981],\n",
       "       [0.00138494],\n",
       "       [0.00128976],\n",
       "       ...,\n",
       "       [0.97951792],\n",
       "       [0.95642438],\n",
       "       [0.96799675]])"
      ]
     },
     "execution_count": 12,
     "metadata": {},
     "output_type": "execute_result"
    }
   ],
   "source": [
    "scaler = MinMaxScaler(feature_range=(0,1))\n",
    "scaled_data = scaler.fit_transform(dataset)\n",
    "scaled_data"
   ]
  },
  {
   "cell_type": "code",
   "execution_count": 13,
   "id": "50de4b8f",
   "metadata": {},
   "outputs": [
    {
     "name": "stdout",
     "output_type": "stream",
     "text": [
      "[array([0.00118981, 0.00138494, 0.00128976, 0.0007591 , 0.00072341,\n",
      "       0.00079955, 0.0006187 , 0.00114222, 0.00133973, 0.00148012,\n",
      "       0.00199888, 0.00190846, 0.00161815, 0.00160149, 0.00167287,\n",
      "       0.00233678, 0.00233679, 0.00178947, 0.00232013, 0.00205123,\n",
      "       0.00133735, 0.00161101, 0.00165384, 0.00190607, 0.00156817,\n",
      "       0.00169429, 0.00160624, 0.0016467 , 0.00138494, 0.00111366,\n",
      "       0.00131356, 0.0011089 , 0.00072341, 0.00108987, 0.00103038,\n",
      "       0.00103038, 0.00090902, 0.00081621, 0.00090902, 0.00109939,\n",
      "       0.00100658, 0.00094947, 0.00114697, 0.00114698, 0.00114222,\n",
      "       0.00122788, 0.00103989, 0.00196081, 0.00109938, 0.00119457,\n",
      "       0.00138018, 0.00138494, 0.00109939, 0.00109463, 0.00076624,\n",
      "       0.00069485, 0.00062346, 0.00076624, 0.00086142, 0.00096137])]\n",
      "[0.0009566087067930376]\n",
      "\n",
      "[array([0.00118981, 0.00138494, 0.00128976, 0.0007591 , 0.00072341,\n",
      "       0.00079955, 0.0006187 , 0.00114222, 0.00133973, 0.00148012,\n",
      "       0.00199888, 0.00190846, 0.00161815, 0.00160149, 0.00167287,\n",
      "       0.00233678, 0.00233679, 0.00178947, 0.00232013, 0.00205123,\n",
      "       0.00133735, 0.00161101, 0.00165384, 0.00190607, 0.00156817,\n",
      "       0.00169429, 0.00160624, 0.0016467 , 0.00138494, 0.00111366,\n",
      "       0.00131356, 0.0011089 , 0.00072341, 0.00108987, 0.00103038,\n",
      "       0.00103038, 0.00090902, 0.00081621, 0.00090902, 0.00109939,\n",
      "       0.00100658, 0.00094947, 0.00114697, 0.00114698, 0.00114222,\n",
      "       0.00122788, 0.00103989, 0.00196081, 0.00109938, 0.00119457,\n",
      "       0.00138018, 0.00138494, 0.00109939, 0.00109463, 0.00076624,\n",
      "       0.00069485, 0.00062346, 0.00076624, 0.00086142, 0.00096137]), array([0.00138494, 0.00128976, 0.0007591 , 0.00072341, 0.00079955,\n",
      "       0.0006187 , 0.00114222, 0.00133973, 0.00148012, 0.00199888,\n",
      "       0.00190846, 0.00161815, 0.00160149, 0.00167287, 0.00233678,\n",
      "       0.00233679, 0.00178947, 0.00232013, 0.00205123, 0.00133735,\n",
      "       0.00161101, 0.00165384, 0.00190607, 0.00156817, 0.00169429,\n",
      "       0.00160624, 0.0016467 , 0.00138494, 0.00111366, 0.00131356,\n",
      "       0.0011089 , 0.00072341, 0.00108987, 0.00103038, 0.00103038,\n",
      "       0.00090902, 0.00081621, 0.00090902, 0.00109939, 0.00100658,\n",
      "       0.00094947, 0.00114697, 0.00114698, 0.00114222, 0.00122788,\n",
      "       0.00103989, 0.00196081, 0.00109938, 0.00119457, 0.00138018,\n",
      "       0.00138494, 0.00109939, 0.00109463, 0.00076624, 0.00069485,\n",
      "       0.00062346, 0.00076624, 0.00086142, 0.00096137, 0.00095661])]\n",
      "[0.0009566087067930376, 0.0008400099740240334]\n",
      "\n"
     ]
    }
   ],
   "source": [
    "#create the training dataset\n",
    "#create the scaled training dataset\n",
    "train_data = scaled_data[0:training_data_len , :]\n",
    "#split the data into x_train and y_train datasets\n",
    "x_train = []\n",
    "y_train = []\n",
    "\n",
    "for i in range(60, len(train_data)):\n",
    "    x_train.append(train_data[i-60:i, 0])\n",
    "    y_train.append(train_data[i, 0])\n",
    "    if i<=61:\n",
    "        print(x_train)\n",
    "        print(y_train)\n",
    "        print()"
   ]
  },
  {
   "cell_type": "code",
   "execution_count": 14,
   "id": "5d272a31",
   "metadata": {},
   "outputs": [],
   "source": [
    "#convert the x_train and y_train to numpy arrays\n",
    "x_train, y_train = np.array(x_train), np.array(y_train)"
   ]
  },
  {
   "cell_type": "code",
   "execution_count": 15,
   "id": "1b3f10af",
   "metadata": {},
   "outputs": [
    {
     "data": {
      "text/plain": [
       "(3511, 60)"
      ]
     },
     "execution_count": 15,
     "metadata": {},
     "output_type": "execute_result"
    }
   ],
   "source": [
    "x_train.shape"
   ]
  },
  {
   "cell_type": "code",
   "execution_count": 16,
   "id": "049be071",
   "metadata": {},
   "outputs": [
    {
     "data": {
      "text/plain": [
       "(3511, 60, 1)"
      ]
     },
     "execution_count": 16,
     "metadata": {},
     "output_type": "execute_result"
    }
   ],
   "source": [
    "#Reshape the data\n",
    "x_train = np.reshape(x_train, (x_train.shape[0], x_train.shape[1] ,1))\n",
    "x_train.shape"
   ]
  },
  {
   "cell_type": "code",
   "execution_count": 17,
   "id": "eeb2854c",
   "metadata": {},
   "outputs": [],
   "source": [
    "#Build the lstm model\n",
    "model = Sequential()\n",
    "model.add(LSTM(50, return_sequences=True, input_shape = (x_train.shape[1], 1)))\n",
    "model.add(LSTM(50, return_sequences=False))\n",
    "model.add(Dense(25))\n",
    "model.add(Dense(1))"
   ]
  },
  {
   "cell_type": "code",
   "execution_count": 19,
   "id": "02db9279",
   "metadata": {},
   "outputs": [],
   "source": [
    "#Compile the model\n",
    "model.compile(optimizer='adam', loss='mean_squared_error')"
   ]
  },
  {
   "cell_type": "code",
   "execution_count": 20,
   "id": "4cee21b9",
   "metadata": {},
   "outputs": [
    {
     "name": "stdout",
     "output_type": "stream",
     "text": [
      "3511/3511 [==============================] - 310s 83ms/step - loss: 1.4257e-04\n"
     ]
    },
    {
     "data": {
      "text/plain": [
       "<keras.callbacks.History at 0x20c29297370>"
      ]
     },
     "execution_count": 20,
     "metadata": {},
     "output_type": "execute_result"
    }
   ],
   "source": [
    "#Train the model\n",
    "model.fit(x_train, y_train, batch_size=1, epochs=1)"
   ]
  },
  {
   "cell_type": "code",
   "execution_count": 21,
   "id": "c9164901",
   "metadata": {},
   "outputs": [],
   "source": [
    "#creating the testing data\n",
    "test_data = scaled_data[training_data_len - 60: , :]\n",
    "#create the datasets x_train and y_test\n",
    "x_test = []\n",
    "y_test = dataset[training_data_len:, :]\n",
    "for i in range(60, len(test_data)):\n",
    "    x_test.append(test_data[i-60:i,0])"
   ]
  },
  {
   "cell_type": "code",
   "execution_count": 22,
   "id": "89a761f6",
   "metadata": {},
   "outputs": [],
   "source": [
    "#convert the data to a numpy array\n",
    "x_test = np.array(x_test)"
   ]
  },
  {
   "cell_type": "code",
   "execution_count": 23,
   "id": "a7cd85e5",
   "metadata": {},
   "outputs": [],
   "source": [
    "#Reshape the data\n",
    "x_test = np.reshape(x_test, (x_test.shape[0], x_test.shape[1], 1))"
   ]
  },
  {
   "cell_type": "code",
   "execution_count": 24,
   "id": "7e913eed",
   "metadata": {},
   "outputs": [
    {
     "name": "stdout",
     "output_type": "stream",
     "text": [
      "28/28 [==============================] - 5s 58ms/step\n"
     ]
    }
   ],
   "source": [
    "#Get the models predicted price values\n",
    "predictions = model.predict(x_test)\n",
    "predictions=scaler.inverse_transform(predictions)"
   ]
  },
  {
   "cell_type": "code",
   "execution_count": 25,
   "id": "d91dc9f0",
   "metadata": {},
   "outputs": [
    {
     "data": {
      "text/plain": [
       "66.15488513054245"
      ]
     },
     "execution_count": 25,
     "metadata": {},
     "output_type": "execute_result"
    }
   ],
   "source": [
    "rmse = np.sqrt(np.mean(predictions - y_test)**2)\n",
    "rmse"
   ]
  },
  {
   "cell_type": "code",
   "execution_count": 26,
   "id": "fd6d52b9",
   "metadata": {},
   "outputs": [
    {
     "name": "stderr",
     "output_type": "stream",
     "text": [
      "C:\\Users\\acer\\AppData\\Local\\Temp\\ipykernel_7964\\3603618858.py:3: SettingWithCopyWarning: \n",
      "A value is trying to be set on a copy of a slice from a DataFrame.\n",
      "Try using .loc[row_indexer,col_indexer] = value instead\n",
      "\n",
      "See the caveats in the documentation: https://pandas.pydata.org/pandas-docs/stable/user_guide/indexing.html#returning-a-view-versus-a-copy\n",
      "  valid['Predictions'] = predictions\n"
     ]
    },
    {
     "data": {
      "image/png": "[encoded data removed]",
      "text/plain": [
       "<Figure size 1152x576 with 1 Axes>"
      ]
     },
     "metadata": {},
     "output_type": "display_data"
    }
   ],
   "source": [
    "train = data[:training_data_len]\n",
    "valid = data[training_data_len:]\n",
    "valid['Predictions'] = predictions\n",
    "plt.figure(figsize=(16,8))\n",
    "plt.title('Model')\n",
    "plt.xlabel('Date', fontsize=18)\n",
    "plt.ylabel('Open Price USD ($)', fontsize=18)\n",
    "plt.plot(train['Open'])\n",
    "plt.plot(valid[['Open','Predictions']])\n",
    "plt.legend(['Train','Val','Predictions'], loc='lower right')\n",
    "plt.show()"
   ]
  },
  {
   "cell_type": "code",
   "execution_count": 27,
   "id": "31f3b595",
   "metadata": {},
   "outputs": [
    {
     "data": {
      "text/html": [
       "<div>\n",
       "<style scoped>\n",
       "    .dataframe tbody tr th:only-of-type {\n",
       "        vertical-align: middle;\n",
       "    }\n",
       "\n",
       "    .dataframe tbody tr th {\n",
       "        vertical-align: top;\n",
       "    }\n",
       "\n",
       "    .dataframe thead th {\n",
       "        text-align: right;\n",
       "    }\n",
       "</style>\n",
       "<table border=\"1\" class=\"dataframe\">\n",
       "  <thead>\n",
       "    <tr style=\"text-align: right;\">\n",
       "      <th></th>\n",
       "      <th>Open</th>\n",
       "      <th>Predictions</th>\n",
       "    </tr>\n",
       "  </thead>\n",
       "  <tbody>\n",
       "    <tr>\n",
       "      <th>3571</th>\n",
       "      <td>1363.293454</td>\n",
       "      <td>1401.342773</td>\n",
       "    </tr>\n",
       "    <tr>\n",
       "      <th>3572</th>\n",
       "      <td>1359.131998</td>\n",
       "      <td>1394.729980</td>\n",
       "    </tr>\n",
       "    <tr>\n",
       "      <th>3573</th>\n",
       "      <td>1369.361750</td>\n",
       "      <td>1388.589233</td>\n",
       "    </tr>\n",
       "    <tr>\n",
       "      <th>3574</th>\n",
       "      <td>1361.457093</td>\n",
       "      <td>1384.812622</td>\n",
       "    </tr>\n",
       "    <tr>\n",
       "      <th>3575</th>\n",
       "      <td>1382.845952</td>\n",
       "      <td>1381.737183</td>\n",
       "    </tr>\n",
       "    <tr>\n",
       "      <th>...</th>\n",
       "      <td>...</td>\n",
       "      <td>...</td>\n",
       "    </tr>\n",
       "    <tr>\n",
       "      <th>4458</th>\n",
       "      <td>3890.000000</td>\n",
       "      <td>3545.462891</td>\n",
       "    </tr>\n",
       "    <tr>\n",
       "      <th>4459</th>\n",
       "      <td>3900.000000</td>\n",
       "      <td>3548.962402</td>\n",
       "    </tr>\n",
       "    <tr>\n",
       "      <th>4460</th>\n",
       "      <td>3850.000000</td>\n",
       "      <td>3554.482178</td>\n",
       "    </tr>\n",
       "    <tr>\n",
       "      <th>4461</th>\n",
       "      <td>3759.800049</td>\n",
       "      <td>3553.268066</td>\n",
       "    </tr>\n",
       "    <tr>\n",
       "      <th>4462</th>\n",
       "      <td>3805.000000</td>\n",
       "      <td>3537.915771</td>\n",
       "    </tr>\n",
       "  </tbody>\n",
       "</table>\n",
       "<p>892 rows × 2 columns</p>\n",
       "</div>"
      ],
      "text/plain": [
       "             Open  Predictions\n",
       "3571  1363.293454  1401.342773\n",
       "3572  1359.131998  1394.729980\n",
       "3573  1369.361750  1388.589233\n",
       "3574  1361.457093  1384.812622\n",
       "3575  1382.845952  1381.737183\n",
       "...           ...          ...\n",
       "4458  3890.000000  3545.462891\n",
       "4459  3900.000000  3548.962402\n",
       "4460  3850.000000  3554.482178\n",
       "4461  3759.800049  3553.268066\n",
       "4462  3805.000000  3537.915771\n",
       "\n",
       "[892 rows x 2 columns]"
      ]
     },
     "execution_count": 27,
     "metadata": {},
     "output_type": "execute_result"
    }
   ],
   "source": [
    "valid"
   ]
  },
  {
   "cell_type": "markdown",
   "id": "34a0e5d6",
   "metadata": {},
   "source": [
    "## Hence, We explored Stock Price of TCS using LSTM. We then visualized closing price value after using LSTM."
   ]
  }
 ],
 "metadata": {
  "kernelspec": {
   "display_name": "Python 3 (ipykernel)",
   "language": "python",
   "name": "python3"
  },
  "language_info": {
   "codemirror_mode": {
    "name": "ipython",
    "version": 3
   },
   "file_extension": ".py",
   "mimetype": "text/x-python",
   "name": "python",
   "nbconvert_exporter": "python",
   "pygments_lexer": "ipython3",
   "version": "3.9.12"
  }
 },
 "nbformat": 4,
 "nbformat_minor": 5
}
